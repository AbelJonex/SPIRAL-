{
 "cells": [
  {
   "cell_type": "code",
   "execution_count": 1,
   "id": "aab4b67d",
   "metadata": {},
   "outputs": [],
   "source": [
    "from turtle import *\n",
    "import math\n",
    "\n",
    "t = Turtle()\n",
    "t.speed(1)\n",
    "screen = getscreen()  \n",
    "\n"
   ]
  },
  {
   "cell_type": "code",
   "execution_count": 2,
   "id": "ef0e9568",
   "metadata": {},
   "outputs": [],
   "source": [
    "\n",
    "def spiral(adj):\n",
    "    hypotenuse = math.sqrt(adj**2 + 100**2)\n",
    "                # defines the hopetenuse of nth adj triangle as sqrt(adj^2 + 100^2)\n",
    "    tanangle = math.atan2(100, adj) # defines tanangle as the arctan of a triangle\n",
    "                             # with adjacent length = adj, and the \n",
    "                             # opposite leg as always 100\n",
    "                    # 45, 45, 90 triangle \n",
    "    t.forward(adj) # moves turtle right by the length of the adj nth triangle\n",
    "    t.left(90) # orients turtle vertically by 90 degrees\n",
    "    t.forward(100) # moves turtle vertically by the non our changing length of 100\n",
    "    t.left(90) #orients turtle to be pointing left at 90 degrees which allows us to then orient further to \n",
    "               # the left (90 degrees - identified angle) by the degree that we calculated. Then when we move \n",
    "               # forwards back to \"home\" we will be doing so at the desired angle to complete the triangle\n",
    "    t.left(math.degrees(tanangle))\n",
    "    t.forward(hypotenuse) #hypotenuse\n",
    "    t.left(180) # arriving at the angle we calculated, we then have to simply turn the turtle around.\n",
    "    return hypotenuse\n",
    "\n",
    "\n",
    "d = 100\n",
    "\n",
    "for i in range(16):\n",
    "      d = spiral(d) # This changes the value of our d variable (or our adj side) after each iteration. Which \n",
    "                    # we intially define as 100, but is then overrrided.  \n",
    "                    # After calling the spiral function, whats returned is the hypotenuse, due \n",
    "                    # to the return function at the end of spiral. So in each iteration we define d as the \n",
    "                    # stored hypotenuse value at the end of its corresponding function, and simultaneously \n",
    "                    # define the adj side length because its dependent on the value of d!!!\n",
    "  \n",
    "\n"
   ]
  },
  {
   "cell_type": "code",
   "execution_count": null,
   "id": "1bcc3f57",
   "metadata": {},
   "outputs": [],
   "source": []
  }
 ],
 "metadata": {
  "kernelspec": {
   "display_name": "Python 3 (ipykernel)",
   "language": "python",
   "name": "python3"
  },
  "language_info": {
   "codemirror_mode": {
    "name": "ipython",
    "version": 3
   },
   "file_extension": ".py",
   "mimetype": "text/x-python",
   "name": "python",
   "nbconvert_exporter": "python",
   "pygments_lexer": "ipython3",
   "version": "3.9.7"
  }
 },
 "nbformat": 4,
 "nbformat_minor": 5
}
